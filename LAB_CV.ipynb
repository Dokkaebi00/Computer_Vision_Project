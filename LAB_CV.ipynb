{
  "nbformat": 4,
  "nbformat_minor": 0,
  "metadata": {
    "colab": {
      "name": "LAB_CV.ipynb",
      "provenance": [],
      "toc_visible": true,
      "authorship_tag": "ABX9TyO265Ax7FfXvu6VGRrQyewz",
      "include_colab_link": true
    },
    "kernelspec": {
      "name": "python3",
      "display_name": "Python 3"
    }
  },
  "cells": [
    {
      "cell_type": "markdown",
      "metadata": {
        "id": "view-in-github",
        "colab_type": "text"
      },
      "source": [
        "<a href=\"https://colab.research.google.com/github/Dokkaebi00/Computer_Vision_Project/blob/master/LAB_CV.ipynb\" target=\"_parent\"><img src=\"https://colab.research.google.com/assets/colab-badge.svg\" alt=\"Open In Colab\"/></a>"
      ]
    },
    {
      "cell_type": "markdown",
      "metadata": {
        "id": "e1a4B4p0mviC"
      },
      "source": [
        "# Import libraries"
      ]
    },
    {
      "cell_type": "markdown",
      "metadata": {
        "id": "l-oSSv96m0X4"
      },
      "source": [
        "`OpenCV` used to: \r\n",
        "- Draw bounding box\r\n",
        "- Visualization "
      ]
    },
    {
      "cell_type": "code",
      "metadata": {
        "id": "Tx2TbO4Imbzf"
      },
      "source": [
        "import numpy as np\r\n",
        "import cv2\r\n",
        "import matplotlib.pyplot as plt\r\n"
      ],
      "execution_count": null,
      "outputs": []
    },
    {
      "cell_type": "markdown",
      "metadata": {
        "id": "OF2cZkPQnTUN"
      },
      "source": [
        "# Terminology\r\n",
        "For example, we have `1000 images` \r\n",
        "- Batch size: total number of training exmaples present in a single batch  \r\n",
        "- Epoch: is an entire dataset passed through neural network only **ONCE** \r\n",
        "- Iteration: is the number of batches needed to complete one epoch  \r\n",
        "\r\n",
        "\r\n",
        "\r\n",
        "Ref: https://towardsdatascience.com/epoch-vs-iterations-vs-batch-size-4dfb9c7ce9c9"
      ]
    },
    {
      "cell_type": "markdown",
      "metadata": {
        "id": "rErx6NKm1dgM"
      },
      "source": [
        "# Sample source code \r\n",
        "http://bitly.com.vn/6l0si7"
      ]
    }
  ]
}